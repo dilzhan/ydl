{
 "cells": [
  {
   "cell_type": "code",
   "execution_count": 1,
   "id": "0dee5204",
   "metadata": {
    "_cell_guid": "b1076dfc-b9ad-4769-8c92-a6c4dae69d19",
    "_uuid": "8f2839f25d086af736a60e9eeb907d3b93b6e0e5",
    "papermill": {
     "duration": 1.071613,
     "end_time": "2024-05-13T07:14:35.025035",
     "exception": false,
     "start_time": "2024-05-13T07:14:33.953422",
     "status": "completed"
    },
    "tags": []
   },
   "outputs": [],
   "source": [
    "import numpy as np\n",
    "import pandas as pd"
   ]
  },
  {
   "cell_type": "markdown",
   "id": "a0131655",
   "metadata": {
    "papermill": {
     "duration": 0.01737,
     "end_time": "2024-05-13T07:14:35.060425",
     "exception": false,
     "start_time": "2024-05-13T07:14:35.043055",
     "status": "completed"
    },
    "tags": []
   },
   "source": [
    "# Data Processing"
   ]
  },
  {
   "cell_type": "markdown",
   "id": "3629ac5d",
   "metadata": {
    "papermill": {
     "duration": 0.018101,
     "end_time": "2024-05-13T07:14:35.095946",
     "exception": false,
     "start_time": "2024-05-13T07:14:35.077845",
     "status": "completed"
    },
    "tags": []
   },
   "source": [
    "## Loading the Data"
   ]
  },
  {
   "cell_type": "code",
   "execution_count": 33,
   "id": "69ec6f49",
   "metadata": {
    "papermill": {
     "duration": 0.079838,
     "end_time": "2024-05-13T07:14:35.193200",
     "exception": false,
     "start_time": "2024-05-13T07:14:35.113362",
     "status": "completed"
    },
    "tags": []
   },
   "outputs": [
    {
     "data": {
      "text/html": [
       "<div>\n",
       "<style scoped>\n",
       "    .dataframe tbody tr th:only-of-type {\n",
       "        vertical-align: middle;\n",
       "    }\n",
       "\n",
       "    .dataframe tbody tr th {\n",
       "        vertical-align: top;\n",
       "    }\n",
       "\n",
       "    .dataframe thead th {\n",
       "        text-align: right;\n",
       "    }\n",
       "</style>\n",
       "<table border=\"1\" class=\"dataframe\">\n",
       "  <thead>\n",
       "    <tr style=\"text-align: right;\">\n",
       "      <th></th>\n",
       "      <th>Density</th>\n",
       "      <th>BodyFat</th>\n",
       "      <th>Age</th>\n",
       "      <th>Weight</th>\n",
       "      <th>Height</th>\n",
       "      <th>Neck</th>\n",
       "      <th>Chest</th>\n",
       "      <th>Abdomen</th>\n",
       "      <th>Hip</th>\n",
       "      <th>Thigh</th>\n",
       "      <th>Knee</th>\n",
       "      <th>Ankle</th>\n",
       "      <th>Biceps</th>\n",
       "      <th>Forearm</th>\n",
       "      <th>Wrist</th>\n",
       "    </tr>\n",
       "  </thead>\n",
       "  <tbody>\n",
       "    <tr>\n",
       "      <th>0</th>\n",
       "      <td>1.0708</td>\n",
       "      <td>12.3</td>\n",
       "      <td>23</td>\n",
       "      <td>154.25</td>\n",
       "      <td>67.75</td>\n",
       "      <td>36.2</td>\n",
       "      <td>93.1</td>\n",
       "      <td>85.2</td>\n",
       "      <td>94.5</td>\n",
       "      <td>59.0</td>\n",
       "      <td>37.3</td>\n",
       "      <td>21.9</td>\n",
       "      <td>32.0</td>\n",
       "      <td>27.4</td>\n",
       "      <td>17.1</td>\n",
       "    </tr>\n",
       "    <tr>\n",
       "      <th>1</th>\n",
       "      <td>1.0853</td>\n",
       "      <td>6.1</td>\n",
       "      <td>22</td>\n",
       "      <td>173.25</td>\n",
       "      <td>72.25</td>\n",
       "      <td>38.5</td>\n",
       "      <td>93.6</td>\n",
       "      <td>83.0</td>\n",
       "      <td>98.7</td>\n",
       "      <td>58.7</td>\n",
       "      <td>37.3</td>\n",
       "      <td>23.4</td>\n",
       "      <td>30.5</td>\n",
       "      <td>28.9</td>\n",
       "      <td>18.2</td>\n",
       "    </tr>\n",
       "    <tr>\n",
       "      <th>2</th>\n",
       "      <td>1.0414</td>\n",
       "      <td>25.3</td>\n",
       "      <td>22</td>\n",
       "      <td>154.00</td>\n",
       "      <td>66.25</td>\n",
       "      <td>34.0</td>\n",
       "      <td>95.8</td>\n",
       "      <td>87.9</td>\n",
       "      <td>99.2</td>\n",
       "      <td>59.6</td>\n",
       "      <td>38.9</td>\n",
       "      <td>24.0</td>\n",
       "      <td>28.8</td>\n",
       "      <td>25.2</td>\n",
       "      <td>16.6</td>\n",
       "    </tr>\n",
       "    <tr>\n",
       "      <th>3</th>\n",
       "      <td>1.0751</td>\n",
       "      <td>10.4</td>\n",
       "      <td>26</td>\n",
       "      <td>184.75</td>\n",
       "      <td>72.25</td>\n",
       "      <td>37.4</td>\n",
       "      <td>101.8</td>\n",
       "      <td>86.4</td>\n",
       "      <td>101.2</td>\n",
       "      <td>60.1</td>\n",
       "      <td>37.3</td>\n",
       "      <td>22.8</td>\n",
       "      <td>32.4</td>\n",
       "      <td>29.4</td>\n",
       "      <td>18.2</td>\n",
       "    </tr>\n",
       "    <tr>\n",
       "      <th>4</th>\n",
       "      <td>1.0340</td>\n",
       "      <td>28.7</td>\n",
       "      <td>24</td>\n",
       "      <td>184.25</td>\n",
       "      <td>71.25</td>\n",
       "      <td>34.4</td>\n",
       "      <td>97.3</td>\n",
       "      <td>100.0</td>\n",
       "      <td>101.9</td>\n",
       "      <td>63.2</td>\n",
       "      <td>42.2</td>\n",
       "      <td>24.0</td>\n",
       "      <td>32.2</td>\n",
       "      <td>27.7</td>\n",
       "      <td>17.7</td>\n",
       "    </tr>\n",
       "  </tbody>\n",
       "</table>\n",
       "</div>"
      ],
      "text/plain": [
       "   Density  BodyFat  Age  Weight  Height  Neck  Chest  Abdomen    Hip  Thigh  \\\n",
       "0   1.0708     12.3   23  154.25   67.75  36.2   93.1     85.2   94.5   59.0   \n",
       "1   1.0853      6.1   22  173.25   72.25  38.5   93.6     83.0   98.7   58.7   \n",
       "2   1.0414     25.3   22  154.00   66.25  34.0   95.8     87.9   99.2   59.6   \n",
       "3   1.0751     10.4   26  184.75   72.25  37.4  101.8     86.4  101.2   60.1   \n",
       "4   1.0340     28.7   24  184.25   71.25  34.4   97.3    100.0  101.9   63.2   \n",
       "\n",
       "   Knee  Ankle  Biceps  Forearm  Wrist  \n",
       "0  37.3   21.9    32.0     27.4   17.1  \n",
       "1  37.3   23.4    30.5     28.9   18.2  \n",
       "2  38.9   24.0    28.8     25.2   16.6  \n",
       "3  37.3   22.8    32.4     29.4   18.2  \n",
       "4  42.2   24.0    32.2     27.7   17.7  "
      ]
     },
     "execution_count": 33,
     "metadata": {},
     "output_type": "execute_result"
    }
   ],
   "source": [
    "df = pd.read_csv('bodyfat.csv')\n",
    "\n",
    "df.head()"
   ]
  },
  {
   "cell_type": "code",
   "execution_count": 34,
   "id": "fb97f3ea",
   "metadata": {
    "papermill": {
     "duration": 0.032071,
     "end_time": "2024-05-13T07:14:35.243027",
     "exception": false,
     "start_time": "2024-05-13T07:14:35.210956",
     "status": "completed"
    },
    "tags": []
   },
   "outputs": [
    {
     "data": {
      "text/plain": [
       "(252, 15)"
      ]
     },
     "execution_count": 34,
     "metadata": {},
     "output_type": "execute_result"
    }
   ],
   "source": [
    "df.shape"
   ]
  },
  {
   "cell_type": "code",
   "execution_count": 35,
   "id": "cf407a42",
   "metadata": {
    "papermill": {
     "duration": 0.082452,
     "end_time": "2024-05-13T07:14:35.343610",
     "exception": false,
     "start_time": "2024-05-13T07:14:35.261158",
     "status": "completed"
    },
    "tags": []
   },
   "outputs": [
    {
     "data": {
      "text/html": [
       "<div>\n",
       "<style scoped>\n",
       "    .dataframe tbody tr th:only-of-type {\n",
       "        vertical-align: middle;\n",
       "    }\n",
       "\n",
       "    .dataframe tbody tr th {\n",
       "        vertical-align: top;\n",
       "    }\n",
       "\n",
       "    .dataframe thead th {\n",
       "        text-align: right;\n",
       "    }\n",
       "</style>\n",
       "<table border=\"1\" class=\"dataframe\">\n",
       "  <thead>\n",
       "    <tr style=\"text-align: right;\">\n",
       "      <th></th>\n",
       "      <th>Density</th>\n",
       "      <th>BodyFat</th>\n",
       "      <th>Age</th>\n",
       "      <th>Weight</th>\n",
       "      <th>Height</th>\n",
       "      <th>Neck</th>\n",
       "      <th>Chest</th>\n",
       "      <th>Abdomen</th>\n",
       "      <th>Hip</th>\n",
       "      <th>Thigh</th>\n",
       "      <th>Knee</th>\n",
       "      <th>Ankle</th>\n",
       "      <th>Biceps</th>\n",
       "      <th>Forearm</th>\n",
       "      <th>Wrist</th>\n",
       "    </tr>\n",
       "  </thead>\n",
       "  <tbody>\n",
       "    <tr>\n",
       "      <th>count</th>\n",
       "      <td>252.000000</td>\n",
       "      <td>252.000000</td>\n",
       "      <td>252.000000</td>\n",
       "      <td>252.000000</td>\n",
       "      <td>252.000000</td>\n",
       "      <td>252.000000</td>\n",
       "      <td>252.000000</td>\n",
       "      <td>252.000000</td>\n",
       "      <td>252.000000</td>\n",
       "      <td>252.000000</td>\n",
       "      <td>252.000000</td>\n",
       "      <td>252.000000</td>\n",
       "      <td>252.000000</td>\n",
       "      <td>252.000000</td>\n",
       "      <td>252.000000</td>\n",
       "    </tr>\n",
       "    <tr>\n",
       "      <th>mean</th>\n",
       "      <td>1.055574</td>\n",
       "      <td>19.150794</td>\n",
       "      <td>44.884921</td>\n",
       "      <td>178.924405</td>\n",
       "      <td>70.148810</td>\n",
       "      <td>37.992063</td>\n",
       "      <td>100.824206</td>\n",
       "      <td>92.555952</td>\n",
       "      <td>99.904762</td>\n",
       "      <td>59.405952</td>\n",
       "      <td>38.590476</td>\n",
       "      <td>23.102381</td>\n",
       "      <td>32.273413</td>\n",
       "      <td>28.663889</td>\n",
       "      <td>18.229762</td>\n",
       "    </tr>\n",
       "    <tr>\n",
       "      <th>std</th>\n",
       "      <td>0.019031</td>\n",
       "      <td>8.368740</td>\n",
       "      <td>12.602040</td>\n",
       "      <td>29.389160</td>\n",
       "      <td>3.662856</td>\n",
       "      <td>2.430913</td>\n",
       "      <td>8.430476</td>\n",
       "      <td>10.783077</td>\n",
       "      <td>7.164058</td>\n",
       "      <td>5.249952</td>\n",
       "      <td>2.411805</td>\n",
       "      <td>1.694893</td>\n",
       "      <td>3.021274</td>\n",
       "      <td>2.020691</td>\n",
       "      <td>0.933585</td>\n",
       "    </tr>\n",
       "    <tr>\n",
       "      <th>min</th>\n",
       "      <td>0.995000</td>\n",
       "      <td>0.000000</td>\n",
       "      <td>22.000000</td>\n",
       "      <td>118.500000</td>\n",
       "      <td>29.500000</td>\n",
       "      <td>31.100000</td>\n",
       "      <td>79.300000</td>\n",
       "      <td>69.400000</td>\n",
       "      <td>85.000000</td>\n",
       "      <td>47.200000</td>\n",
       "      <td>33.000000</td>\n",
       "      <td>19.100000</td>\n",
       "      <td>24.800000</td>\n",
       "      <td>21.000000</td>\n",
       "      <td>15.800000</td>\n",
       "    </tr>\n",
       "    <tr>\n",
       "      <th>25%</th>\n",
       "      <td>1.041400</td>\n",
       "      <td>12.475000</td>\n",
       "      <td>35.750000</td>\n",
       "      <td>159.000000</td>\n",
       "      <td>68.250000</td>\n",
       "      <td>36.400000</td>\n",
       "      <td>94.350000</td>\n",
       "      <td>84.575000</td>\n",
       "      <td>95.500000</td>\n",
       "      <td>56.000000</td>\n",
       "      <td>36.975000</td>\n",
       "      <td>22.000000</td>\n",
       "      <td>30.200000</td>\n",
       "      <td>27.300000</td>\n",
       "      <td>17.600000</td>\n",
       "    </tr>\n",
       "    <tr>\n",
       "      <th>50%</th>\n",
       "      <td>1.054900</td>\n",
       "      <td>19.200000</td>\n",
       "      <td>43.000000</td>\n",
       "      <td>176.500000</td>\n",
       "      <td>70.000000</td>\n",
       "      <td>38.000000</td>\n",
       "      <td>99.650000</td>\n",
       "      <td>90.950000</td>\n",
       "      <td>99.300000</td>\n",
       "      <td>59.000000</td>\n",
       "      <td>38.500000</td>\n",
       "      <td>22.800000</td>\n",
       "      <td>32.050000</td>\n",
       "      <td>28.700000</td>\n",
       "      <td>18.300000</td>\n",
       "    </tr>\n",
       "    <tr>\n",
       "      <th>75%</th>\n",
       "      <td>1.070400</td>\n",
       "      <td>25.300000</td>\n",
       "      <td>54.000000</td>\n",
       "      <td>197.000000</td>\n",
       "      <td>72.250000</td>\n",
       "      <td>39.425000</td>\n",
       "      <td>105.375000</td>\n",
       "      <td>99.325000</td>\n",
       "      <td>103.525000</td>\n",
       "      <td>62.350000</td>\n",
       "      <td>39.925000</td>\n",
       "      <td>24.000000</td>\n",
       "      <td>34.325000</td>\n",
       "      <td>30.000000</td>\n",
       "      <td>18.800000</td>\n",
       "    </tr>\n",
       "    <tr>\n",
       "      <th>max</th>\n",
       "      <td>1.108900</td>\n",
       "      <td>47.500000</td>\n",
       "      <td>81.000000</td>\n",
       "      <td>363.150000</td>\n",
       "      <td>77.750000</td>\n",
       "      <td>51.200000</td>\n",
       "      <td>136.200000</td>\n",
       "      <td>148.100000</td>\n",
       "      <td>147.700000</td>\n",
       "      <td>87.300000</td>\n",
       "      <td>49.100000</td>\n",
       "      <td>33.900000</td>\n",
       "      <td>45.000000</td>\n",
       "      <td>34.900000</td>\n",
       "      <td>21.400000</td>\n",
       "    </tr>\n",
       "  </tbody>\n",
       "</table>\n",
       "</div>"
      ],
      "text/plain": [
       "          Density     BodyFat         Age      Weight      Height        Neck  \\\n",
       "count  252.000000  252.000000  252.000000  252.000000  252.000000  252.000000   \n",
       "mean     1.055574   19.150794   44.884921  178.924405   70.148810   37.992063   \n",
       "std      0.019031    8.368740   12.602040   29.389160    3.662856    2.430913   \n",
       "min      0.995000    0.000000   22.000000  118.500000   29.500000   31.100000   \n",
       "25%      1.041400   12.475000   35.750000  159.000000   68.250000   36.400000   \n",
       "50%      1.054900   19.200000   43.000000  176.500000   70.000000   38.000000   \n",
       "75%      1.070400   25.300000   54.000000  197.000000   72.250000   39.425000   \n",
       "max      1.108900   47.500000   81.000000  363.150000   77.750000   51.200000   \n",
       "\n",
       "            Chest     Abdomen         Hip       Thigh        Knee       Ankle  \\\n",
       "count  252.000000  252.000000  252.000000  252.000000  252.000000  252.000000   \n",
       "mean   100.824206   92.555952   99.904762   59.405952   38.590476   23.102381   \n",
       "std      8.430476   10.783077    7.164058    5.249952    2.411805    1.694893   \n",
       "min     79.300000   69.400000   85.000000   47.200000   33.000000   19.100000   \n",
       "25%     94.350000   84.575000   95.500000   56.000000   36.975000   22.000000   \n",
       "50%     99.650000   90.950000   99.300000   59.000000   38.500000   22.800000   \n",
       "75%    105.375000   99.325000  103.525000   62.350000   39.925000   24.000000   \n",
       "max    136.200000  148.100000  147.700000   87.300000   49.100000   33.900000   \n",
       "\n",
       "           Biceps     Forearm       Wrist  \n",
       "count  252.000000  252.000000  252.000000  \n",
       "mean    32.273413   28.663889   18.229762  \n",
       "std      3.021274    2.020691    0.933585  \n",
       "min     24.800000   21.000000   15.800000  \n",
       "25%     30.200000   27.300000   17.600000  \n",
       "50%     32.050000   28.700000   18.300000  \n",
       "75%     34.325000   30.000000   18.800000  \n",
       "max     45.000000   34.900000   21.400000  "
      ]
     },
     "execution_count": 35,
     "metadata": {},
     "output_type": "execute_result"
    }
   ],
   "source": [
    "df.describe()"
   ]
  },
  {
   "cell_type": "code",
   "execution_count": 36,
   "id": "19d04a51",
   "metadata": {
    "papermill": {
     "duration": 0.031709,
     "end_time": "2024-05-13T07:14:35.393780",
     "exception": false,
     "start_time": "2024-05-13T07:14:35.362071",
     "status": "completed"
    },
    "tags": []
   },
   "outputs": [
    {
     "data": {
      "text/plain": [
       "Density    0\n",
       "BodyFat    0\n",
       "Age        0\n",
       "Weight     0\n",
       "Height     0\n",
       "Neck       0\n",
       "Chest      0\n",
       "Abdomen    0\n",
       "Hip        0\n",
       "Thigh      0\n",
       "Knee       0\n",
       "Ankle      0\n",
       "Biceps     0\n",
       "Forearm    0\n",
       "Wrist      0\n",
       "dtype: int64"
      ]
     },
     "execution_count": 36,
     "metadata": {},
     "output_type": "execute_result"
    }
   ],
   "source": [
    "df.isna().sum()"
   ]
  },
  {
   "cell_type": "markdown",
   "id": "0941ee4e",
   "metadata": {
    "papermill": {
     "duration": 0.018481,
     "end_time": "2024-05-13T07:14:35.430659",
     "exception": false,
     "start_time": "2024-05-13T07:14:35.412178",
     "status": "completed"
    },
    "tags": []
   },
   "source": [
    "## Correlation between the Body Fat Percentage and Other Features"
   ]
  },
  {
   "cell_type": "code",
   "execution_count": 37,
   "id": "68dd31ed",
   "metadata": {
    "papermill": {
     "duration": 0.037051,
     "end_time": "2024-05-13T07:14:35.486094",
     "exception": false,
     "start_time": "2024-05-13T07:14:35.449043",
     "status": "completed"
    },
    "tags": []
   },
   "outputs": [
    {
     "data": {
      "text/plain": [
       "Density   -0.987782\n",
       "BodyFat    1.000000\n",
       "Age        0.291458\n",
       "Weight     0.612414\n",
       "Height    -0.089495\n",
       "Neck       0.490592\n",
       "Chest      0.702620\n",
       "Abdomen    0.813432\n",
       "Hip        0.625201\n",
       "Thigh      0.559608\n",
       "Knee       0.508665\n",
       "Ankle      0.265970\n",
       "Biceps     0.493271\n",
       "Forearm    0.361387\n",
       "Wrist      0.346575\n",
       "Name: BodyFat, dtype: float64"
      ]
     },
     "execution_count": 37,
     "metadata": {},
     "output_type": "execute_result"
    }
   ],
   "source": [
    "corr = df.corr()\n",
    "\n",
    "corr['BodyFat']"
   ]
  },
  {
   "cell_type": "code",
   "execution_count": 38,
   "id": "d52e96b1",
   "metadata": {
    "papermill": {
     "duration": 0.346027,
     "end_time": "2024-05-13T07:14:35.850815",
     "exception": false,
     "start_time": "2024-05-13T07:14:35.504788",
     "status": "completed"
    },
    "tags": []
   },
   "outputs": [
    {
     "data": {
      "text/plain": [
       "<matplotlib.collections.PathCollection at 0x735d654f7640>"
      ]
     },
     "execution_count": 38,
     "metadata": {},
     "output_type": "execute_result"
    },
    {
     "data": {
      "image/png": "[encoded data removed]",
      "text/plain": [
       "<Figure size 640x480 with 1 Axes>"
      ]
     },
     "metadata": {},
     "output_type": "display_data"
    }
   ],
   "source": [
    "import matplotlib.pyplot as plt\n",
    "\n",
    "plt.scatter(df['Density'], df['BodyFat'])"
   ]
  },
  {
   "cell_type": "markdown",
   "id": "e3fb8966",
   "metadata": {
    "papermill": {
     "duration": 0.02036,
     "end_time": "2024-05-13T07:14:35.891127",
     "exception": false,
     "start_time": "2024-05-13T07:14:35.870767",
     "status": "completed"
    },
    "tags": []
   },
   "source": [
    "Correlation between the body fat percantage and the density of the body is too high. It is so because the body fat calculation formula highly depends on the density of the body.\n",
    "\n",
    "Since calculation of the body density is too costly and could not be performed at home, lets drop the density feature"
   ]
  },
  {
   "cell_type": "code",
   "execution_count": 39,
   "id": "bae6b8e2",
   "metadata": {
    "papermill": {
     "duration": 0.052618,
     "end_time": "2024-05-13T07:14:35.963152",
     "exception": false,
     "start_time": "2024-05-13T07:14:35.910534",
     "status": "completed"
    },
    "tags": []
   },
   "outputs": [
    {
     "data": {
      "text/html": [
       "<div>\n",
       "<style scoped>\n",
       "    .dataframe tbody tr th:only-of-type {\n",
       "        vertical-align: middle;\n",
       "    }\n",
       "\n",
       "    .dataframe tbody tr th {\n",
       "        vertical-align: top;\n",
       "    }\n",
       "\n",
       "    .dataframe thead th {\n",
       "        text-align: right;\n",
       "    }\n",
       "</style>\n",
       "<table border=\"1\" class=\"dataframe\">\n",
       "  <thead>\n",
       "    <tr style=\"text-align: right;\">\n",
       "      <th></th>\n",
       "      <th>BodyFat</th>\n",
       "      <th>Age</th>\n",
       "      <th>Weight</th>\n",
       "      <th>Height</th>\n",
       "      <th>Neck</th>\n",
       "      <th>Chest</th>\n",
       "      <th>Abdomen</th>\n",
       "      <th>Hip</th>\n",
       "      <th>Thigh</th>\n",
       "      <th>Knee</th>\n",
       "      <th>Ankle</th>\n",
       "      <th>Biceps</th>\n",
       "      <th>Forearm</th>\n",
       "      <th>Wrist</th>\n",
       "    </tr>\n",
       "  </thead>\n",
       "  <tbody>\n",
       "    <tr>\n",
       "      <th>0</th>\n",
       "      <td>12.3</td>\n",
       "      <td>23</td>\n",
       "      <td>154.25</td>\n",
       "      <td>67.75</td>\n",
       "      <td>36.2</td>\n",
       "      <td>93.1</td>\n",
       "      <td>85.2</td>\n",
       "      <td>94.5</td>\n",
       "      <td>59.0</td>\n",
       "      <td>37.3</td>\n",
       "      <td>21.9</td>\n",
       "      <td>32.0</td>\n",
       "      <td>27.4</td>\n",
       "      <td>17.1</td>\n",
       "    </tr>\n",
       "    <tr>\n",
       "      <th>1</th>\n",
       "      <td>6.1</td>\n",
       "      <td>22</td>\n",
       "      <td>173.25</td>\n",
       "      <td>72.25</td>\n",
       "      <td>38.5</td>\n",
       "      <td>93.6</td>\n",
       "      <td>83.0</td>\n",
       "      <td>98.7</td>\n",
       "      <td>58.7</td>\n",
       "      <td>37.3</td>\n",
       "      <td>23.4</td>\n",
       "      <td>30.5</td>\n",
       "      <td>28.9</td>\n",
       "      <td>18.2</td>\n",
       "    </tr>\n",
       "    <tr>\n",
       "      <th>2</th>\n",
       "      <td>25.3</td>\n",
       "      <td>22</td>\n",
       "      <td>154.00</td>\n",
       "      <td>66.25</td>\n",
       "      <td>34.0</td>\n",
       "      <td>95.8</td>\n",
       "      <td>87.9</td>\n",
       "      <td>99.2</td>\n",
       "      <td>59.6</td>\n",
       "      <td>38.9</td>\n",
       "      <td>24.0</td>\n",
       "      <td>28.8</td>\n",
       "      <td>25.2</td>\n",
       "      <td>16.6</td>\n",
       "    </tr>\n",
       "    <tr>\n",
       "      <th>3</th>\n",
       "      <td>10.4</td>\n",
       "      <td>26</td>\n",
       "      <td>184.75</td>\n",
       "      <td>72.25</td>\n",
       "      <td>37.4</td>\n",
       "      <td>101.8</td>\n",
       "      <td>86.4</td>\n",
       "      <td>101.2</td>\n",
       "      <td>60.1</td>\n",
       "      <td>37.3</td>\n",
       "      <td>22.8</td>\n",
       "      <td>32.4</td>\n",
       "      <td>29.4</td>\n",
       "      <td>18.2</td>\n",
       "    </tr>\n",
       "    <tr>\n",
       "      <th>4</th>\n",
       "      <td>28.7</td>\n",
       "      <td>24</td>\n",
       "      <td>184.25</td>\n",
       "      <td>71.25</td>\n",
       "      <td>34.4</td>\n",
       "      <td>97.3</td>\n",
       "      <td>100.0</td>\n",
       "      <td>101.9</td>\n",
       "      <td>63.2</td>\n",
       "      <td>42.2</td>\n",
       "      <td>24.0</td>\n",
       "      <td>32.2</td>\n",
       "      <td>27.7</td>\n",
       "      <td>17.7</td>\n",
       "    </tr>\n",
       "  </tbody>\n",
       "</table>\n",
       "</div>"
      ],
      "text/plain": [
       "   BodyFat  Age  Weight  Height  Neck  Chest  Abdomen    Hip  Thigh  Knee  \\\n",
       "0     12.3   23  154.25   67.75  36.2   93.1     85.2   94.5   59.0  37.3   \n",
       "1      6.1   22  173.25   72.25  38.5   93.6     83.0   98.7   58.7  37.3   \n",
       "2     25.3   22  154.00   66.25  34.0   95.8     87.9   99.2   59.6  38.9   \n",
       "3     10.4   26  184.75   72.25  37.4  101.8     86.4  101.2   60.1  37.3   \n",
       "4     28.7   24  184.25   71.25  34.4   97.3    100.0  101.9   63.2  42.2   \n",
       "\n",
       "   Ankle  Biceps  Forearm  Wrist  \n",
       "0   21.9    32.0     27.4   17.1  \n",
       "1   23.4    30.5     28.9   18.2  \n",
       "2   24.0    28.8     25.2   16.6  \n",
       "3   22.8    32.4     29.4   18.2  \n",
       "4   24.0    32.2     27.7   17.7  "
      ]
     },
     "execution_count": 39,
     "metadata": {},
     "output_type": "execute_result"
    }
   ],
   "source": [
    "df.drop('Density', axis = 1, inplace = True)\n",
    "\n",
    "df.head()"
   ]
  },
  {
   "cell_type": "markdown",
   "id": "355ad8d7",
   "metadata": {
    "papermill": {
     "duration": 0.019348,
     "end_time": "2024-05-13T07:14:36.002249",
     "exception": false,
     "start_time": "2024-05-13T07:14:35.982901",
     "status": "completed"
    },
    "tags": []
   },
   "source": [
    "## Additional Features"
   ]
  },
  {
   "cell_type": "markdown",
   "id": "069de54d",
   "metadata": {
    "papermill": {
     "duration": 0.019208,
     "end_time": "2024-05-13T07:14:36.042210",
     "exception": false,
     "start_time": "2024-05-13T07:14:36.023002",
     "status": "completed"
    },
    "tags": []
   },
   "source": [
    "Lets add some additional features to the dataset. It will help the model work better."
   ]
  },
  {
   "cell_type": "markdown",
   "id": "ff8e84b0",
   "metadata": {
    "papermill": {
     "duration": 0.019315,
     "end_time": "2024-05-13T07:14:36.081035",
     "exception": false,
     "start_time": "2024-05-13T07:14:36.061720",
     "status": "completed"
    },
    "tags": []
   },
   "source": [
    "### Body Mass Index (BMI)"
   ]
  },
  {
   "cell_type": "markdown",
   "id": "04e1f30d",
   "metadata": {
    "papermill": {
     "duration": 0.019021,
     "end_time": "2024-05-13T07:14:36.119502",
     "exception": false,
     "start_time": "2024-05-13T07:14:36.100481",
     "status": "completed"
    },
    "tags": []
   },
   "source": [
    "Body Mass Index (BMI) is calculated by:\n",
    "$$\\text{BMI} = \\frac{\\text{Weight} \\times 703}{\\text{Height}^2}$$\n",
    "\n",
    "Here, weight is in pounds and height is in inches"
   ]
  },
  {
   "cell_type": "code",
   "execution_count": 40,
   "id": "f00eb24d",
   "metadata": {
    "papermill": {
     "duration": 0.053028,
     "end_time": "2024-05-13T07:14:36.191940",
     "exception": false,
     "start_time": "2024-05-13T07:14:36.138912",
     "status": "completed"
    },
    "tags": []
   },
   "outputs": [
    {
     "data": {
      "text/html": [
       "<div>\n",
       "<style scoped>\n",
       "    .dataframe tbody tr th:only-of-type {\n",
       "        vertical-align: middle;\n",
       "    }\n",
       "\n",
       "    .dataframe tbody tr th {\n",
       "        vertical-align: top;\n",
       "    }\n",
       "\n",
       "    .dataframe thead th {\n",
       "        text-align: right;\n",
       "    }\n",
       "</style>\n",
       "<table border=\"1\" class=\"dataframe\">\n",
       "  <thead>\n",
       "    <tr style=\"text-align: right;\">\n",
       "      <th></th>\n",
       "      <th>BodyFat</th>\n",
       "      <th>Age</th>\n",
       "      <th>Weight</th>\n",
       "      <th>Height</th>\n",
       "      <th>Neck</th>\n",
       "      <th>Chest</th>\n",
       "      <th>Abdomen</th>\n",
       "      <th>Hip</th>\n",
       "      <th>Thigh</th>\n",
       "      <th>Knee</th>\n",
       "      <th>Ankle</th>\n",
       "      <th>Biceps</th>\n",
       "      <th>Forearm</th>\n",
       "      <th>Wrist</th>\n",
       "      <th>BMI</th>\n",
       "    </tr>\n",
       "  </thead>\n",
       "  <tbody>\n",
       "    <tr>\n",
       "      <th>0</th>\n",
       "      <td>12.3</td>\n",
       "      <td>23</td>\n",
       "      <td>154.25</td>\n",
       "      <td>67.75</td>\n",
       "      <td>36.2</td>\n",
       "      <td>93.1</td>\n",
       "      <td>85.2</td>\n",
       "      <td>94.5</td>\n",
       "      <td>59.0</td>\n",
       "      <td>37.3</td>\n",
       "      <td>21.9</td>\n",
       "      <td>32.0</td>\n",
       "      <td>27.4</td>\n",
       "      <td>17.1</td>\n",
       "      <td>23.624460</td>\n",
       "    </tr>\n",
       "    <tr>\n",
       "      <th>1</th>\n",
       "      <td>6.1</td>\n",
       "      <td>22</td>\n",
       "      <td>173.25</td>\n",
       "      <td>72.25</td>\n",
       "      <td>38.5</td>\n",
       "      <td>93.6</td>\n",
       "      <td>83.0</td>\n",
       "      <td>98.7</td>\n",
       "      <td>58.7</td>\n",
       "      <td>37.3</td>\n",
       "      <td>23.4</td>\n",
       "      <td>30.5</td>\n",
       "      <td>28.9</td>\n",
       "      <td>18.2</td>\n",
       "      <td>23.332048</td>\n",
       "    </tr>\n",
       "    <tr>\n",
       "      <th>2</th>\n",
       "      <td>25.3</td>\n",
       "      <td>22</td>\n",
       "      <td>154.00</td>\n",
       "      <td>66.25</td>\n",
       "      <td>34.0</td>\n",
       "      <td>95.8</td>\n",
       "      <td>87.9</td>\n",
       "      <td>99.2</td>\n",
       "      <td>59.6</td>\n",
       "      <td>38.9</td>\n",
       "      <td>24.0</td>\n",
       "      <td>28.8</td>\n",
       "      <td>25.2</td>\n",
       "      <td>16.6</td>\n",
       "      <td>24.666315</td>\n",
       "    </tr>\n",
       "    <tr>\n",
       "      <th>3</th>\n",
       "      <td>10.4</td>\n",
       "      <td>26</td>\n",
       "      <td>184.75</td>\n",
       "      <td>72.25</td>\n",
       "      <td>37.4</td>\n",
       "      <td>101.8</td>\n",
       "      <td>86.4</td>\n",
       "      <td>101.2</td>\n",
       "      <td>60.1</td>\n",
       "      <td>37.3</td>\n",
       "      <td>22.8</td>\n",
       "      <td>32.4</td>\n",
       "      <td>29.4</td>\n",
       "      <td>18.2</td>\n",
       "      <td>24.880784</td>\n",
       "    </tr>\n",
       "    <tr>\n",
       "      <th>4</th>\n",
       "      <td>28.7</td>\n",
       "      <td>24</td>\n",
       "      <td>184.25</td>\n",
       "      <td>71.25</td>\n",
       "      <td>34.4</td>\n",
       "      <td>97.3</td>\n",
       "      <td>100.0</td>\n",
       "      <td>101.9</td>\n",
       "      <td>63.2</td>\n",
       "      <td>42.2</td>\n",
       "      <td>24.0</td>\n",
       "      <td>32.2</td>\n",
       "      <td>27.7</td>\n",
       "      <td>17.7</td>\n",
       "      <td>25.514854</td>\n",
       "    </tr>\n",
       "  </tbody>\n",
       "</table>\n",
       "</div>"
      ],
      "text/plain": [
       "   BodyFat  Age  Weight  Height  Neck  Chest  Abdomen    Hip  Thigh  Knee  \\\n",
       "0     12.3   23  154.25   67.75  36.2   93.1     85.2   94.5   59.0  37.3   \n",
       "1      6.1   22  173.25   72.25  38.5   93.6     83.0   98.7   58.7  37.3   \n",
       "2     25.3   22  154.00   66.25  34.0   95.8     87.9   99.2   59.6  38.9   \n",
       "3     10.4   26  184.75   72.25  37.4  101.8     86.4  101.2   60.1  37.3   \n",
       "4     28.7   24  184.25   71.25  34.4   97.3    100.0  101.9   63.2  42.2   \n",
       "\n",
       "   Ankle  Biceps  Forearm  Wrist        BMI  \n",
       "0   21.9    32.0     27.4   17.1  23.624460  \n",
       "1   23.4    30.5     28.9   18.2  23.332048  \n",
       "2   24.0    28.8     25.2   16.6  24.666315  \n",
       "3   22.8    32.4     29.4   18.2  24.880784  \n",
       "4   24.0    32.2     27.7   17.7  25.514854  "
      ]
     },
     "execution_count": 40,
     "metadata": {},
     "output_type": "execute_result"
    }
   ],
   "source": [
    "df['BMI'] = df['Weight'] * 703.0 / df['Height']**2\n",
    "\n",
    "df.head()"
   ]
  },
  {
   "cell_type": "markdown",
   "id": "27787027",
   "metadata": {
    "papermill": {
     "duration": 0.01999,
     "end_time": "2024-05-13T07:14:36.233559",
     "exception": false,
     "start_time": "2024-05-13T07:14:36.213569",
     "status": "completed"
    },
    "tags": []
   },
   "source": [
    "### Body Fat Estimated Using BMI"
   ]
  },
  {
   "cell_type": "markdown",
   "id": "9fdb9091",
   "metadata": {
    "papermill": {
     "duration": 0.021126,
     "end_time": "2024-05-13T07:14:36.275209",
     "exception": false,
     "start_time": "2024-05-13T07:14:36.254083",
     "status": "completed"
    },
    "tags": []
   },
   "source": [
    "The body fat percentage can be estimated using BMI. The formula is as follows (https://www.livestrong.com/article/173592-how-to-convert-bmi-to-body-fat-percentage/):\n",
    "$$\\text{BF%} = (1.39 \\times \\text{BMI}) + (0.16 \\times \\text{Age}) - (10.34 \\times \\text{Gender}) - 9$$\n",
    "\n",
    "Gender is specified as 0 for men and 1 for women. In our case, we can put 1 anywhere and obtain:\n",
    "$$\\text{BF%} = (1.39 \\times \\text{BMI}) + (0.16 \\times \\text{Age}) - 19.34$$"
   ]
  },
  {
   "cell_type": "code",
   "execution_count": 41,
   "id": "6fdc3452",
   "metadata": {
    "papermill": {
     "duration": 0.05667,
     "end_time": "2024-05-13T07:14:36.352888",
     "exception": false,
     "start_time": "2024-05-13T07:14:36.296218",
     "status": "completed"
    },
    "tags": []
   },
   "outputs": [
    {
     "data": {
      "text/html": [
       "<div>\n",
       "<style scoped>\n",
       "    .dataframe tbody tr th:only-of-type {\n",
       "        vertical-align: middle;\n",
       "    }\n",
       "\n",
       "    .dataframe tbody tr th {\n",
       "        vertical-align: top;\n",
       "    }\n",
       "\n",
       "    .dataframe thead th {\n",
       "        text-align: right;\n",
       "    }\n",
       "</style>\n",
       "<table border=\"1\" class=\"dataframe\">\n",
       "  <thead>\n",
       "    <tr style=\"text-align: right;\">\n",
       "      <th></th>\n",
       "      <th>BodyFat</th>\n",
       "      <th>Age</th>\n",
       "      <th>Weight</th>\n",
       "      <th>Height</th>\n",
       "      <th>Neck</th>\n",
       "      <th>Chest</th>\n",
       "      <th>Abdomen</th>\n",
       "      <th>Hip</th>\n",
       "      <th>Thigh</th>\n",
       "      <th>Knee</th>\n",
       "      <th>Ankle</th>\n",
       "      <th>Biceps</th>\n",
       "      <th>Forearm</th>\n",
       "      <th>Wrist</th>\n",
       "      <th>BMI</th>\n",
       "      <th>BF_BMI</th>\n",
       "    </tr>\n",
       "  </thead>\n",
       "  <tbody>\n",
       "    <tr>\n",
       "      <th>0</th>\n",
       "      <td>12.3</td>\n",
       "      <td>23</td>\n",
       "      <td>154.25</td>\n",
       "      <td>67.75</td>\n",
       "      <td>36.2</td>\n",
       "      <td>93.1</td>\n",
       "      <td>85.2</td>\n",
       "      <td>94.5</td>\n",
       "      <td>59.0</td>\n",
       "      <td>37.3</td>\n",
       "      <td>21.9</td>\n",
       "      <td>32.0</td>\n",
       "      <td>27.4</td>\n",
       "      <td>17.1</td>\n",
       "      <td>23.624460</td>\n",
       "      <td>17.178000</td>\n",
       "    </tr>\n",
       "    <tr>\n",
       "      <th>1</th>\n",
       "      <td>6.1</td>\n",
       "      <td>22</td>\n",
       "      <td>173.25</td>\n",
       "      <td>72.25</td>\n",
       "      <td>38.5</td>\n",
       "      <td>93.6</td>\n",
       "      <td>83.0</td>\n",
       "      <td>98.7</td>\n",
       "      <td>58.7</td>\n",
       "      <td>37.3</td>\n",
       "      <td>23.4</td>\n",
       "      <td>30.5</td>\n",
       "      <td>28.9</td>\n",
       "      <td>18.2</td>\n",
       "      <td>23.332048</td>\n",
       "      <td>16.611547</td>\n",
       "    </tr>\n",
       "    <tr>\n",
       "      <th>2</th>\n",
       "      <td>25.3</td>\n",
       "      <td>22</td>\n",
       "      <td>154.00</td>\n",
       "      <td>66.25</td>\n",
       "      <td>34.0</td>\n",
       "      <td>95.8</td>\n",
       "      <td>87.9</td>\n",
       "      <td>99.2</td>\n",
       "      <td>59.6</td>\n",
       "      <td>38.9</td>\n",
       "      <td>24.0</td>\n",
       "      <td>28.8</td>\n",
       "      <td>25.2</td>\n",
       "      <td>16.6</td>\n",
       "      <td>24.666315</td>\n",
       "      <td>18.466178</td>\n",
       "    </tr>\n",
       "    <tr>\n",
       "      <th>3</th>\n",
       "      <td>10.4</td>\n",
       "      <td>26</td>\n",
       "      <td>184.75</td>\n",
       "      <td>72.25</td>\n",
       "      <td>37.4</td>\n",
       "      <td>101.8</td>\n",
       "      <td>86.4</td>\n",
       "      <td>101.2</td>\n",
       "      <td>60.1</td>\n",
       "      <td>37.3</td>\n",
       "      <td>22.8</td>\n",
       "      <td>32.4</td>\n",
       "      <td>29.4</td>\n",
       "      <td>18.2</td>\n",
       "      <td>24.880784</td>\n",
       "      <td>19.404290</td>\n",
       "    </tr>\n",
       "    <tr>\n",
       "      <th>4</th>\n",
       "      <td>28.7</td>\n",
       "      <td>24</td>\n",
       "      <td>184.25</td>\n",
       "      <td>71.25</td>\n",
       "      <td>34.4</td>\n",
       "      <td>97.3</td>\n",
       "      <td>100.0</td>\n",
       "      <td>101.9</td>\n",
       "      <td>63.2</td>\n",
       "      <td>42.2</td>\n",
       "      <td>24.0</td>\n",
       "      <td>32.2</td>\n",
       "      <td>27.7</td>\n",
       "      <td>17.7</td>\n",
       "      <td>25.514854</td>\n",
       "      <td>19.965647</td>\n",
       "    </tr>\n",
       "  </tbody>\n",
       "</table>\n",
       "</div>"
      ],
      "text/plain": [
       "   BodyFat  Age  Weight  Height  Neck  Chest  Abdomen    Hip  Thigh  Knee  \\\n",
       "0     12.3   23  154.25   67.75  36.2   93.1     85.2   94.5   59.0  37.3   \n",
       "1      6.1   22  173.25   72.25  38.5   93.6     83.0   98.7   58.7  37.3   \n",
       "2     25.3   22  154.00   66.25  34.0   95.8     87.9   99.2   59.6  38.9   \n",
       "3     10.4   26  184.75   72.25  37.4  101.8     86.4  101.2   60.1  37.3   \n",
       "4     28.7   24  184.25   71.25  34.4   97.3    100.0  101.9   63.2  42.2   \n",
       "\n",
       "   Ankle  Biceps  Forearm  Wrist        BMI     BF_BMI  \n",
       "0   21.9    32.0     27.4   17.1  23.624460  17.178000  \n",
       "1   23.4    30.5     28.9   18.2  23.332048  16.611547  \n",
       "2   24.0    28.8     25.2   16.6  24.666315  18.466178  \n",
       "3   22.8    32.4     29.4   18.2  24.880784  19.404290  \n",
       "4   24.0    32.2     27.7   17.7  25.514854  19.965647  "
      ]
     },
     "execution_count": 41,
     "metadata": {},
     "output_type": "execute_result"
    }
   ],
   "source": [
    "df['BF_BMI'] = df['BMI'] * 1.39 + df['Age'] * 0.16 - 19.34\n",
    "\n",
    "df.head()"
   ]
  },
  {
   "cell_type": "markdown",
   "id": "9bb0f2c8",
   "metadata": {
    "papermill": {
     "duration": 0.021604,
     "end_time": "2024-05-13T07:14:36.396091",
     "exception": false,
     "start_time": "2024-05-13T07:14:36.374487",
     "status": "completed"
    },
    "tags": []
   },
   "source": [
    "### Body Adiposity Index (BAI)"
   ]
  },
  {
   "cell_type": "markdown",
   "id": "e91800d4",
   "metadata": {
    "papermill": {
     "duration": 0.02151,
     "end_time": "2024-05-13T07:14:36.531532",
     "exception": false,
     "start_time": "2024-05-13T07:14:36.510022",
     "status": "completed"
    },
    "tags": []
   },
   "source": [
    "Body Adiposity Index can be calculated as follows:\n",
    "$$\\text{BAI} = \\frac{\\text{Hip Circumference}}{\\text{Height} \\times \\sqrt{\\text{Height}}} - 18$$\n",
    "\n",
    "Here height is measured in meters, so to convert from inches to meters we multiply the number by 0.0254."
   ]
  },
  {
   "cell_type": "code",
   "execution_count": 42,
   "id": "fc9de1f6",
   "metadata": {
    "papermill": {
     "duration": 0.057348,
     "end_time": "2024-05-13T07:14:36.609815",
     "exception": false,
     "start_time": "2024-05-13T07:14:36.552467",
     "status": "completed"
    },
    "tags": []
   },
   "outputs": [
    {
     "data": {
      "text/html": [
       "<div>\n",
       "<style scoped>\n",
       "    .dataframe tbody tr th:only-of-type {\n",
       "        vertical-align: middle;\n",
       "    }\n",
       "\n",
       "    .dataframe tbody tr th {\n",
       "        vertical-align: top;\n",
       "    }\n",
       "\n",
       "    .dataframe thead th {\n",
       "        text-align: right;\n",
       "    }\n",
       "</style>\n",
       "<table border=\"1\" class=\"dataframe\">\n",
       "  <thead>\n",
       "    <tr style=\"text-align: right;\">\n",
       "      <th></th>\n",
       "      <th>BodyFat</th>\n",
       "      <th>Age</th>\n",
       "      <th>Weight</th>\n",
       "      <th>Height</th>\n",
       "      <th>Neck</th>\n",
       "      <th>Chest</th>\n",
       "      <th>Abdomen</th>\n",
       "      <th>Hip</th>\n",
       "      <th>Thigh</th>\n",
       "      <th>Knee</th>\n",
       "      <th>Ankle</th>\n",
       "      <th>Biceps</th>\n",
       "      <th>Forearm</th>\n",
       "      <th>Wrist</th>\n",
       "      <th>BMI</th>\n",
       "      <th>BF_BMI</th>\n",
       "      <th>BAI</th>\n",
       "    </tr>\n",
       "  </thead>\n",
       "  <tbody>\n",
       "    <tr>\n",
       "      <th>0</th>\n",
       "      <td>12.3</td>\n",
       "      <td>23</td>\n",
       "      <td>154.25</td>\n",
       "      <td>67.75</td>\n",
       "      <td>36.2</td>\n",
       "      <td>93.1</td>\n",
       "      <td>85.2</td>\n",
       "      <td>94.5</td>\n",
       "      <td>59.0</td>\n",
       "      <td>37.3</td>\n",
       "      <td>21.9</td>\n",
       "      <td>32.0</td>\n",
       "      <td>27.4</td>\n",
       "      <td>17.1</td>\n",
       "      <td>23.624460</td>\n",
       "      <td>17.178000</td>\n",
       "      <td>23.861741</td>\n",
       "    </tr>\n",
       "    <tr>\n",
       "      <th>1</th>\n",
       "      <td>6.1</td>\n",
       "      <td>22</td>\n",
       "      <td>173.25</td>\n",
       "      <td>72.25</td>\n",
       "      <td>38.5</td>\n",
       "      <td>93.6</td>\n",
       "      <td>83.0</td>\n",
       "      <td>98.7</td>\n",
       "      <td>58.7</td>\n",
       "      <td>37.3</td>\n",
       "      <td>23.4</td>\n",
       "      <td>30.5</td>\n",
       "      <td>28.9</td>\n",
       "      <td>18.2</td>\n",
       "      <td>23.332048</td>\n",
       "      <td>16.611547</td>\n",
       "      <td>21.701764</td>\n",
       "    </tr>\n",
       "    <tr>\n",
       "      <th>2</th>\n",
       "      <td>25.3</td>\n",
       "      <td>22</td>\n",
       "      <td>154.00</td>\n",
       "      <td>66.25</td>\n",
       "      <td>34.0</td>\n",
       "      <td>95.8</td>\n",
       "      <td>87.9</td>\n",
       "      <td>99.2</td>\n",
       "      <td>59.6</td>\n",
       "      <td>38.9</td>\n",
       "      <td>24.0</td>\n",
       "      <td>28.8</td>\n",
       "      <td>25.2</td>\n",
       "      <td>16.6</td>\n",
       "      <td>24.666315</td>\n",
       "      <td>18.466178</td>\n",
       "      <td>27.444599</td>\n",
       "    </tr>\n",
       "    <tr>\n",
       "      <th>3</th>\n",
       "      <td>10.4</td>\n",
       "      <td>26</td>\n",
       "      <td>184.75</td>\n",
       "      <td>72.25</td>\n",
       "      <td>37.4</td>\n",
       "      <td>101.8</td>\n",
       "      <td>86.4</td>\n",
       "      <td>101.2</td>\n",
       "      <td>60.1</td>\n",
       "      <td>37.3</td>\n",
       "      <td>22.8</td>\n",
       "      <td>32.4</td>\n",
       "      <td>29.4</td>\n",
       "      <td>18.2</td>\n",
       "      <td>24.880784</td>\n",
       "      <td>19.404290</td>\n",
       "      <td>22.707381</td>\n",
       "    </tr>\n",
       "    <tr>\n",
       "      <th>4</th>\n",
       "      <td>28.7</td>\n",
       "      <td>24</td>\n",
       "      <td>184.25</td>\n",
       "      <td>71.25</td>\n",
       "      <td>34.4</td>\n",
       "      <td>97.3</td>\n",
       "      <td>100.0</td>\n",
       "      <td>101.9</td>\n",
       "      <td>63.2</td>\n",
       "      <td>42.2</td>\n",
       "      <td>24.0</td>\n",
       "      <td>32.2</td>\n",
       "      <td>27.7</td>\n",
       "      <td>17.7</td>\n",
       "      <td>25.514854</td>\n",
       "      <td>19.965647</td>\n",
       "      <td>23.854900</td>\n",
       "    </tr>\n",
       "  </tbody>\n",
       "</table>\n",
       "</div>"
      ],
      "text/plain": [
       "   BodyFat  Age  Weight  Height  Neck  Chest  Abdomen    Hip  Thigh  Knee  \\\n",
       "0     12.3   23  154.25   67.75  36.2   93.1     85.2   94.5   59.0  37.3   \n",
       "1      6.1   22  173.25   72.25  38.5   93.6     83.0   98.7   58.7  37.3   \n",
       "2     25.3   22  154.00   66.25  34.0   95.8     87.9   99.2   59.6  38.9   \n",
       "3     10.4   26  184.75   72.25  37.4  101.8     86.4  101.2   60.1  37.3   \n",
       "4     28.7   24  184.25   71.25  34.4   97.3    100.0  101.9   63.2  42.2   \n",
       "\n",
       "   Ankle  Biceps  Forearm  Wrist        BMI     BF_BMI        BAI  \n",
       "0   21.9    32.0     27.4   17.1  23.624460  17.178000  23.861741  \n",
       "1   23.4    30.5     28.9   18.2  23.332048  16.611547  21.701764  \n",
       "2   24.0    28.8     25.2   16.6  24.666315  18.466178  27.444599  \n",
       "3   22.8    32.4     29.4   18.2  24.880784  19.404290  22.707381  \n",
       "4   24.0    32.2     27.7   17.7  25.514854  19.965647  23.854900  "
      ]
     },
     "execution_count": 42,
     "metadata": {},
     "output_type": "execute_result"
    }
   ],
   "source": [
    "df['BAI'] = df['Hip'] / (df['Height'] * 0.0254 * np.sqrt(df['Height'] * 0.0254)) - 18\n",
    "\n",
    "df.head()"
   ]
  },
  {
   "cell_type": "markdown",
   "id": "2a32bd32",
   "metadata": {
    "papermill": {
     "duration": 0.021035,
     "end_time": "2024-05-13T07:14:36.652918",
     "exception": false,
     "start_time": "2024-05-13T07:14:36.631883",
     "status": "completed"
    },
    "tags": []
   },
   "source": [
    "### US Navy Body Fat Formula"
   ]
  },
  {
   "cell_type": "markdown",
   "id": "5cea79de",
   "metadata": {
    "papermill": {
     "duration": 0.021756,
     "end_time": "2024-05-13T07:14:36.696030",
     "exception": false,
     "start_time": "2024-05-13T07:14:36.674274",
     "status": "completed"
    },
    "tags": []
   },
   "source": [
    "US Navy calculates men's body fat using the following formula:\n",
    "$$\\text{BF%} = 86.01 \\times \\log_{10}(\\text{Abdomen} - \\text{Neck}) - 70.041 \\times \\log_{10}(\\text{Height}) + 36.76$$"
   ]
  },
  {
   "cell_type": "code",
   "execution_count": 43,
   "id": "52ddcfd5",
   "metadata": {
    "papermill": {
     "duration": 0.055657,
     "end_time": "2024-05-13T07:14:36.773331",
     "exception": false,
     "start_time": "2024-05-13T07:14:36.717674",
     "status": "completed"
    },
    "tags": []
   },
   "outputs": [
    {
     "data": {
      "text/html": [
       "<div>\n",
       "<style scoped>\n",
       "    .dataframe tbody tr th:only-of-type {\n",
       "        vertical-align: middle;\n",
       "    }\n",
       "\n",
       "    .dataframe tbody tr th {\n",
       "        vertical-align: top;\n",
       "    }\n",
       "\n",
       "    .dataframe thead th {\n",
       "        text-align: right;\n",
       "    }\n",
       "</style>\n",
       "<table border=\"1\" class=\"dataframe\">\n",
       "  <thead>\n",
       "    <tr style=\"text-align: right;\">\n",
       "      <th></th>\n",
       "      <th>BodyFat</th>\n",
       "      <th>Age</th>\n",
       "      <th>Weight</th>\n",
       "      <th>Height</th>\n",
       "      <th>Neck</th>\n",
       "      <th>Chest</th>\n",
       "      <th>Abdomen</th>\n",
       "      <th>Hip</th>\n",
       "      <th>Thigh</th>\n",
       "      <th>Knee</th>\n",
       "      <th>Ankle</th>\n",
       "      <th>Biceps</th>\n",
       "      <th>Forearm</th>\n",
       "      <th>Wrist</th>\n",
       "      <th>BMI</th>\n",
       "      <th>BF_BMI</th>\n",
       "      <th>BAI</th>\n",
       "      <th>Navy</th>\n",
       "    </tr>\n",
       "  </thead>\n",
       "  <tbody>\n",
       "    <tr>\n",
       "      <th>0</th>\n",
       "      <td>12.3</td>\n",
       "      <td>23</td>\n",
       "      <td>154.25</td>\n",
       "      <td>67.75</td>\n",
       "      <td>36.2</td>\n",
       "      <td>93.1</td>\n",
       "      <td>85.2</td>\n",
       "      <td>94.5</td>\n",
       "      <td>59.0</td>\n",
       "      <td>37.3</td>\n",
       "      <td>21.9</td>\n",
       "      <td>32.0</td>\n",
       "      <td>27.4</td>\n",
       "      <td>17.1</td>\n",
       "      <td>23.624460</td>\n",
       "      <td>17.178000</td>\n",
       "      <td>23.861741</td>\n",
       "      <td>53.895047</td>\n",
       "    </tr>\n",
       "    <tr>\n",
       "      <th>1</th>\n",
       "      <td>6.1</td>\n",
       "      <td>22</td>\n",
       "      <td>173.25</td>\n",
       "      <td>72.25</td>\n",
       "      <td>38.5</td>\n",
       "      <td>93.6</td>\n",
       "      <td>83.0</td>\n",
       "      <td>98.7</td>\n",
       "      <td>58.7</td>\n",
       "      <td>37.3</td>\n",
       "      <td>23.4</td>\n",
       "      <td>30.5</td>\n",
       "      <td>28.9</td>\n",
       "      <td>18.2</td>\n",
       "      <td>23.332048</td>\n",
       "      <td>16.611547</td>\n",
       "      <td>21.701764</td>\n",
       "      <td>48.340583</td>\n",
       "    </tr>\n",
       "    <tr>\n",
       "      <th>2</th>\n",
       "      <td>25.3</td>\n",
       "      <td>22</td>\n",
       "      <td>154.00</td>\n",
       "      <td>66.25</td>\n",
       "      <td>34.0</td>\n",
       "      <td>95.8</td>\n",
       "      <td>87.9</td>\n",
       "      <td>99.2</td>\n",
       "      <td>59.6</td>\n",
       "      <td>38.9</td>\n",
       "      <td>24.0</td>\n",
       "      <td>28.8</td>\n",
       "      <td>25.2</td>\n",
       "      <td>16.6</td>\n",
       "      <td>24.666315</td>\n",
       "      <td>18.466178</td>\n",
       "      <td>27.444599</td>\n",
       "      <td>58.136269</td>\n",
       "    </tr>\n",
       "    <tr>\n",
       "      <th>3</th>\n",
       "      <td>10.4</td>\n",
       "      <td>26</td>\n",
       "      <td>184.75</td>\n",
       "      <td>72.25</td>\n",
       "      <td>37.4</td>\n",
       "      <td>101.8</td>\n",
       "      <td>86.4</td>\n",
       "      <td>101.2</td>\n",
       "      <td>60.1</td>\n",
       "      <td>37.3</td>\n",
       "      <td>22.8</td>\n",
       "      <td>32.4</td>\n",
       "      <td>29.4</td>\n",
       "      <td>18.2</td>\n",
       "      <td>24.880784</td>\n",
       "      <td>19.404290</td>\n",
       "      <td>22.707381</td>\n",
       "      <td>51.938903</td>\n",
       "    </tr>\n",
       "    <tr>\n",
       "      <th>4</th>\n",
       "      <td>28.7</td>\n",
       "      <td>24</td>\n",
       "      <td>184.25</td>\n",
       "      <td>71.25</td>\n",
       "      <td>34.4</td>\n",
       "      <td>97.3</td>\n",
       "      <td>100.0</td>\n",
       "      <td>101.9</td>\n",
       "      <td>63.2</td>\n",
       "      <td>42.2</td>\n",
       "      <td>24.0</td>\n",
       "      <td>32.2</td>\n",
       "      <td>27.7</td>\n",
       "      <td>17.7</td>\n",
       "      <td>25.514854</td>\n",
       "      <td>19.965647</td>\n",
       "      <td>23.854900</td>\n",
       "      <td>63.260994</td>\n",
       "    </tr>\n",
       "  </tbody>\n",
       "</table>\n",
       "</div>"
      ],
      "text/plain": [
       "   BodyFat  Age  Weight  Height  Neck  Chest  Abdomen    Hip  Thigh  Knee  \\\n",
       "0     12.3   23  154.25   67.75  36.2   93.1     85.2   94.5   59.0  37.3   \n",
       "1      6.1   22  173.25   72.25  38.5   93.6     83.0   98.7   58.7  37.3   \n",
       "2     25.3   22  154.00   66.25  34.0   95.8     87.9   99.2   59.6  38.9   \n",
       "3     10.4   26  184.75   72.25  37.4  101.8     86.4  101.2   60.1  37.3   \n",
       "4     28.7   24  184.25   71.25  34.4   97.3    100.0  101.9   63.2  42.2   \n",
       "\n",
       "   Ankle  Biceps  Forearm  Wrist        BMI     BF_BMI        BAI       Navy  \n",
       "0   21.9    32.0     27.4   17.1  23.624460  17.178000  23.861741  53.895047  \n",
       "1   23.4    30.5     28.9   18.2  23.332048  16.611547  21.701764  48.340583  \n",
       "2   24.0    28.8     25.2   16.6  24.666315  18.466178  27.444599  58.136269  \n",
       "3   22.8    32.4     29.4   18.2  24.880784  19.404290  22.707381  51.938903  \n",
       "4   24.0    32.2     27.7   17.7  25.514854  19.965647  23.854900  63.260994  "
      ]
     },
     "execution_count": 43,
     "metadata": {},
     "output_type": "execute_result"
    }
   ],
   "source": [
    "df['Navy'] = 86.010 * np.log10(df['Abdomen'] - df['Neck']) - 70.041 * np.log10(df['Height']) + 36.76\n",
    "\n",
    "df.head()"
   ]
  },
  {
   "cell_type": "markdown",
   "id": "94e935fd",
   "metadata": {
    "papermill": {
     "duration": 0.021316,
     "end_time": "2024-05-13T07:14:36.816188",
     "exception": false,
     "start_time": "2024-05-13T07:14:36.794872",
     "status": "completed"
    },
    "tags": []
   },
   "source": [
    "## Outlier Removal"
   ]
  },
  {
   "cell_type": "markdown",
   "id": "3911a8ec",
   "metadata": {
    "papermill": {
     "duration": 0.021613,
     "end_time": "2024-05-13T07:14:36.860565",
     "exception": false,
     "start_time": "2024-05-13T07:14:36.838952",
     "status": "completed"
    },
    "tags": []
   },
   "source": [
    "Lets remove some BMI and BF outliers. Data points below or above two standard deviations from the mean will be removed."
   ]
  },
  {
   "cell_type": "code",
   "execution_count": 44,
   "id": "e2c74192",
   "metadata": {
    "papermill": {
     "duration": 0.035672,
     "end_time": "2024-05-13T07:14:36.917919",
     "exception": false,
     "start_time": "2024-05-13T07:14:36.882247",
     "status": "completed"
    },
    "tags": []
   },
   "outputs": [
    {
     "data": {
      "text/plain": [
       "count    252.000000\n",
       "mean      25.939653\n",
       "std        9.557513\n",
       "min       18.015895\n",
       "25%       23.033400\n",
       "50%       25.091825\n",
       "75%       27.331864\n",
       "max      165.601839\n",
       "Name: BMI, dtype: float64"
      ]
     },
     "execution_count": 44,
     "metadata": {},
     "output_type": "execute_result"
    }
   ],
   "source": [
    "df['BMI'].describe()"
   ]
  },
  {
   "cell_type": "code",
   "execution_count": 45,
   "id": "8299f5b0",
   "metadata": {
    "papermill": {
     "duration": 0.033835,
     "end_time": "2024-05-13T07:14:36.974748",
     "exception": false,
     "start_time": "2024-05-13T07:14:36.940913",
     "status": "completed"
    },
    "tags": []
   },
   "outputs": [],
   "source": [
    "mean = df['BMI'].mean()\n",
    "std = df['BMI'].std()\n",
    "\n",
    "df = df[(mean - 2 * std < df['BMI']) & (df['BMI'] < mean + 2 * std)]"
   ]
  },
  {
   "cell_type": "code",
   "execution_count": 46,
   "id": "85295dee",
   "metadata": {
    "papermill": {
     "duration": 0.038873,
     "end_time": "2024-05-13T07:14:37.035543",
     "exception": false,
     "start_time": "2024-05-13T07:14:36.996670",
     "status": "completed"
    },
    "tags": []
   },
   "outputs": [
    {
     "data": {
      "text/plain": [
       "count    250.0000\n",
       "mean      19.0316\n",
       "std        8.2940\n",
       "min        0.0000\n",
       "25%       12.4250\n",
       "50%       19.2000\n",
       "75%       25.2000\n",
       "max       47.5000\n",
       "Name: BodyFat, dtype: float64"
      ]
     },
     "execution_count": 46,
     "metadata": {},
     "output_type": "execute_result"
    }
   ],
   "source": [
    "df['BodyFat'].describe()"
   ]
  },
  {
   "cell_type": "code",
   "execution_count": 47,
   "id": "f8a5cf75",
   "metadata": {
    "papermill": {
     "duration": 0.034394,
     "end_time": "2024-05-13T07:14:37.091466",
     "exception": false,
     "start_time": "2024-05-13T07:14:37.057072",
     "status": "completed"
    },
    "tags": []
   },
   "outputs": [],
   "source": [
    "mean = df['BodyFat'].mean()\n",
    "std = df['BodyFat'].std()\n",
    "\n",
    "df = df[(mean - 2 * std < df['BodyFat']) & (df['BodyFat'] < mean + 2 * std)]"
   ]
  },
  {
   "cell_type": "code",
   "execution_count": 48,
   "id": "1f2cc5e2",
   "metadata": {
    "papermill": {
     "duration": 0.033322,
     "end_time": "2024-05-13T07:14:37.146844",
     "exception": false,
     "start_time": "2024-05-13T07:14:37.113522",
     "status": "completed"
    },
    "tags": []
   },
   "outputs": [
    {
     "data": {
      "text/plain": [
       "(245, 18)"
      ]
     },
     "execution_count": 48,
     "metadata": {},
     "output_type": "execute_result"
    }
   ],
   "source": [
    "df.shape"
   ]
  },
  {
   "cell_type": "markdown",
   "id": "f671d8d0",
   "metadata": {
    "papermill": {
     "duration": 0.021096,
     "end_time": "2024-05-13T07:14:37.190193",
     "exception": false,
     "start_time": "2024-05-13T07:14:37.169097",
     "status": "completed"
    },
    "tags": []
   },
   "source": [
    "In total, 7 data points were classified as outliers."
   ]
  },
  {
   "cell_type": "markdown",
   "id": "ebdf8a22",
   "metadata": {
    "papermill": {
     "duration": 0.021034,
     "end_time": "2024-05-13T07:14:37.232672",
     "exception": false,
     "start_time": "2024-05-13T07:14:37.211638",
     "status": "completed"
    },
    "tags": []
   },
   "source": [
    "Lets look how body fat percentage is correlated with other features"
   ]
  },
  {
   "cell_type": "code",
   "execution_count": 49,
   "id": "78375e8f",
   "metadata": {
    "papermill": {
     "duration": 0.038203,
     "end_time": "2024-05-13T07:14:37.292257",
     "exception": false,
     "start_time": "2024-05-13T07:14:37.254054",
     "status": "completed"
    },
    "tags": []
   },
   "outputs": [
    {
     "data": {
      "text/plain": [
       "BodyFat    1.000000\n",
       "Age        0.298298\n",
       "Weight     0.592007\n",
       "Height    -0.022050\n",
       "Neck       0.461512\n",
       "Chest      0.669390\n",
       "Abdomen    0.802137\n",
       "Hip        0.593504\n",
       "Thigh      0.528220\n",
       "Knee       0.492182\n",
       "Ankle      0.231025\n",
       "Biceps     0.461683\n",
       "Forearm    0.343126\n",
       "Wrist      0.333159\n",
       "BMI        0.714751\n",
       "BF_BMI     0.742675\n",
       "BAI        0.615304\n",
       "Navy       0.840249\n",
       "Name: BodyFat, dtype: float64"
      ]
     },
     "execution_count": 49,
     "metadata": {},
     "output_type": "execute_result"
    }
   ],
   "source": [
    "corr = df.corr()\n",
    "\n",
    "corr['BodyFat']"
   ]
  },
  {
   "cell_type": "markdown",
   "id": "089d6afb",
   "metadata": {
    "papermill": {
     "duration": 0.02138,
     "end_time": "2024-05-13T07:14:37.335989",
     "exception": false,
     "start_time": "2024-05-13T07:14:37.314609",
     "status": "completed"
    },
    "tags": []
   },
   "source": [
    "## Splitting and Scaling the Data"
   ]
  },
  {
   "cell_type": "code",
   "execution_count": 50,
   "id": "5764b53e",
   "metadata": {
    "papermill": {
     "duration": 1.596063,
     "end_time": "2024-05-13T07:14:38.953813",
     "exception": false,
     "start_time": "2024-05-13T07:14:37.357750",
     "status": "completed"
    },
    "tags": []
   },
   "outputs": [],
   "source": [
    "from sklearn.preprocessing import StandardScaler\n",
    "from sklearn.model_selection import train_test_split"
   ]
  },
  {
   "cell_type": "markdown",
   "id": "ad7a260e",
   "metadata": {
    "papermill": {
     "duration": 0.022826,
     "end_time": "2024-05-13T07:14:38.999294",
     "exception": false,
     "start_time": "2024-05-13T07:14:38.976468",
     "status": "completed"
    },
    "tags": []
   },
   "source": [
    "Lets use 20% of the dataset as a holdout set"
   ]
  },
  {
   "cell_type": "code",
   "execution_count": 51,
   "id": "cc614bf4",
   "metadata": {
    "papermill": {
     "duration": 0.039983,
     "end_time": "2024-05-13T07:14:39.064139",
     "exception": false,
     "start_time": "2024-05-13T07:14:39.024156",
     "status": "completed"
    },
    "tags": []
   },
   "outputs": [
    {
     "data": {
      "text/plain": [
       "((196, 17), (49, 17), (196,), (49,))"
      ]
     },
     "execution_count": 51,
     "metadata": {},
     "output_type": "execute_result"
    }
   ],
   "source": [
    "X = df.drop('BodyFat', axis = 1).values\n",
    "y = df['BodyFat'].values\n",
    "\n",
    "X_train, X_test, y_train, y_test = train_test_split(X, y, test_size = 0.2)\n",
    "\n",
    "X_train.shape, X_test.shape, y_train.shape, y_test.shape"
   ]
  },
  {
   "cell_type": "markdown",
   "id": "b12af711",
   "metadata": {
    "papermill": {
     "duration": 0.021839,
     "end_time": "2024-05-13T07:14:39.108175",
     "exception": false,
     "start_time": "2024-05-13T07:14:39.086336",
     "status": "completed"
    },
    "tags": []
   },
   "source": [
    "To scale the data the standard scaler will be used:\n",
    "$$\\bar{x} = \\frac{x - \\mu}{\\sigma^2}$$\n",
    "\n",
    "Where $\\mu$ is the mean and $\\sigma^2$ is the variance of the training set."
   ]
  },
  {
   "cell_type": "code",
   "execution_count": 52,
   "id": "aee00e3f",
   "metadata": {
    "papermill": {
     "duration": 0.032123,
     "end_time": "2024-05-13T07:14:39.162228",
     "exception": false,
     "start_time": "2024-05-13T07:14:39.130105",
     "status": "completed"
    },
    "tags": []
   },
   "outputs": [],
   "source": [
    "import pickle\n",
    "\n",
    "scaler = StandardScaler()\n",
    "\n",
    "X_train = scaler.fit_transform(X_train)\n",
    "X_test = scaler.transform(X_test)\n",
    "\n",
    "pickle.dump(scaler, open('scaler.sav', 'wb'))"
   ]
  },
  {
   "cell_type": "markdown",
   "id": "841dd059",
   "metadata": {
    "papermill": {
     "duration": 0.021301,
     "end_time": "2024-05-13T07:14:39.205131",
     "exception": false,
     "start_time": "2024-05-13T07:14:39.183830",
     "status": "completed"
    },
    "tags": []
   },
   "source": [
    "## General Dependence"
   ]
  },
  {
   "cell_type": "markdown",
   "id": "a13a1c3d",
   "metadata": {
    "papermill": {
     "duration": 0.027725,
     "end_time": "2024-05-13T07:14:39.255090",
     "exception": false,
     "start_time": "2024-05-13T07:14:39.227365",
     "status": "completed"
    },
    "tags": []
   },
   "source": [
    "To check if there is a general correlation between the body fat percentage and the other features, Principal Component Analysis(PCA) and t-Stochastic Neighborhood Embedding(tSNE) will be used."
   ]
  },
  {
   "cell_type": "markdown",
   "id": "f8f796e8",
   "metadata": {
    "papermill": {
     "duration": 0.02469,
     "end_time": "2024-05-13T07:14:39.311911",
     "exception": false,
     "start_time": "2024-05-13T07:14:39.287221",
     "status": "completed"
    },
    "tags": []
   },
   "source": [
    "### PCA"
   ]
  },
  {
   "cell_type": "code",
   "execution_count": 22,
   "id": "28af9037",
   "metadata": {
    "papermill": {
     "duration": 0.279044,
     "end_time": "2024-05-13T07:14:39.613115",
     "exception": false,
     "start_time": "2024-05-13T07:14:39.334071",
     "status": "completed"
    },
    "tags": []
   },
   "outputs": [],
   "source": [
    "from sklearn.decomposition import PCA"
   ]
  },
  {
   "cell_type": "code",
   "execution_count": 23,
   "id": "f5965c80",
   "metadata": {
    "papermill": {
     "duration": 0.049478,
     "end_time": "2024-05-13T07:14:39.685120",
     "exception": false,
     "start_time": "2024-05-13T07:14:39.635642",
     "status": "completed"
    },
    "tags": []
   },
   "outputs": [],
   "source": [
    "pca = PCA(n_components = 1)\n",
    "X_pca = pca.fit_transform(X_train)"
   ]
  },
  {
   "cell_type": "code",
   "execution_count": 24,
   "id": "56777921",
   "metadata": {
    "papermill": {
     "duration": 0.351554,
     "end_time": "2024-05-13T07:14:40.068821",
     "exception": false,
     "start_time": "2024-05-13T07:14:39.717267",
     "status": "completed"
    },
    "tags": []
   },
   "outputs": [
    {
     "data": {
      "text/plain": [
       "<matplotlib.collections.PathCollection at 0x735d695ca980>"
      ]
     },
     "execution_count": 24,
     "metadata": {},
     "output_type": "execute_result"
    },
    {
     "data": {
      "image/png": "[encoded data removed]",
      "text/plain": [
       "<Figure size 640x480 with 1 Axes>"
      ]
     },
     "metadata": {},
     "output_type": "display_data"
    }
   ],
   "source": [
    "plt.scatter(X_pca, y_train)"
   ]
  },
  {
   "cell_type": "markdown",
   "id": "8e68173d",
   "metadata": {
    "papermill": {
     "duration": 0.02287,
     "end_time": "2024-05-13T07:14:40.120699",
     "exception": false,
     "start_time": "2024-05-13T07:14:40.097829",
     "status": "completed"
    },
    "tags": []
   },
   "source": [
    "### t-SNE"
   ]
  },
  {
   "cell_type": "code",
   "execution_count": 25,
   "id": "c82dd748",
   "metadata": {
    "papermill": {
     "duration": 0.145061,
     "end_time": "2024-05-13T07:14:40.288290",
     "exception": false,
     "start_time": "2024-05-13T07:14:40.143229",
     "status": "completed"
    },
    "tags": []
   },
   "outputs": [],
   "source": [
    "from sklearn.manifold import TSNE"
   ]
  },
  {
   "cell_type": "code",
   "execution_count": 26,
   "id": "71295347",
   "metadata": {
    "papermill": {
     "duration": 0.717662,
     "end_time": "2024-05-13T07:14:41.028847",
     "exception": false,
     "start_time": "2024-05-13T07:14:40.311185",
     "status": "completed"
    },
    "tags": []
   },
   "outputs": [],
   "source": [
    "tsne = TSNE(n_components = 1)\n",
    "X_tsne = tsne.fit_transform(X_train)"
   ]
  },
  {
   "cell_type": "code",
   "execution_count": 27,
   "id": "554e103d",
   "metadata": {
    "papermill": {
     "duration": 0.337992,
     "end_time": "2024-05-13T07:14:41.392360",
     "exception": false,
     "start_time": "2024-05-13T07:14:41.054368",
     "status": "completed"
    },
    "tags": []
   },
   "outputs": [
    {
     "data": {
      "text/plain": [
       "<matplotlib.collections.PathCollection at 0x735d68e482b0>"
      ]
     },
     "execution_count": 27,
     "metadata": {},
     "output_type": "execute_result"
    },
    {
     "data": {
      "image/png": "[encoded data removed]",
      "text/plain": [
       "<Figure size 640x480 with 1 Axes>"
      ]
     },
     "metadata": {},
     "output_type": "display_data"
    }
   ],
   "source": [
    "plt.scatter(X_tsne, y_train)"
   ]
  },
  {
   "cell_type": "markdown",
   "id": "040e32fd",
   "metadata": {
    "papermill": {
     "duration": 0.02353,
     "end_time": "2024-05-13T07:14:41.439764",
     "exception": false,
     "start_time": "2024-05-13T07:14:41.416234",
     "status": "completed"
    },
    "tags": []
   },
   "source": [
    "# Model Selection"
   ]
  },
  {
   "cell_type": "code",
   "execution_count": 28,
   "id": "cbdbd49a",
   "metadata": {
    "papermill": {
     "duration": 0.107129,
     "end_time": "2024-05-13T07:14:41.572693",
     "exception": false,
     "start_time": "2024-05-13T07:14:41.465564",
     "status": "completed"
    },
    "tags": []
   },
   "outputs": [],
   "source": [
    "from sklearn.linear_model import Ridge"
   ]
  },
  {
   "cell_type": "code",
   "execution_count": 29,
   "id": "5d148488",
   "metadata": {
    "papermill": {
     "duration": 0.041211,
     "end_time": "2024-05-13T07:16:48.337920",
     "exception": false,
     "start_time": "2024-05-13T07:16:48.296709",
     "status": "completed"
    },
    "tags": []
   },
   "outputs": [
    {
     "data": {
      "text/html": [
       "<style>#sk-container-id-1 {color: black;}#sk-container-id-1 pre{padding: 0;}#sk-container-id-1 div.sk-toggleable {background-color: white;}#sk-container-id-1 label.sk-toggleable__label {cursor: pointer;display: block;width: 100%;margin-bottom: 0;padding: 0.3em;box-sizing: border-box;text-align: center;}#sk-container-id-1 label.sk-toggleable__label-arrow:before {content: \"▸\";float: left;margin-right: 0.25em;color: #696969;}#sk-container-id-1 label.sk-toggleable__label-arrow:hover:before {color: black;}#sk-container-id-1 div.sk-estimator:hover label.sk-toggleable__label-arrow:before {color: black;}#sk-container-id-1 div.sk-toggleable__content {max-height: 0;max-width: 0;overflow: hidden;text-align: left;background-color: #f0f8ff;}#sk-container-id-1 div.sk-toggleable__content pre {margin: 0.2em;color: black;border-radius: 0.25em;background-color: #f0f8ff;}#sk-container-id-1 input.sk-toggleable__control:checked~div.sk-toggleable__content {max-height: 200px;max-width: 100%;overflow: auto;}#sk-container-id-1 input.sk-toggleable__control:checked~label.sk-toggleable__label-arrow:before {content: \"▾\";}#sk-container-id-1 div.sk-estimator input.sk-toggleable__control:checked~label.sk-toggleable__label {background-color: #d4ebff;}#sk-container-id-1 div.sk-label input.sk-toggleable__control:checked~label.sk-toggleable__label {background-color: #d4ebff;}#sk-container-id-1 input.sk-hidden--visually {border: 0;clip: rect(1px 1px 1px 1px);clip: rect(1px, 1px, 1px, 1px);height: 1px;margin: -1px;overflow: hidden;padding: 0;position: absolute;width: 1px;}#sk-container-id-1 div.sk-estimator {font-family: monospace;background-color: #f0f8ff;border: 1px dotted black;border-radius: 0.25em;box-sizing: border-box;margin-bottom: 0.5em;}#sk-container-id-1 div.sk-estimator:hover {background-color: #d4ebff;}#sk-container-id-1 div.sk-parallel-item::after {content: \"\";width: 100%;border-bottom: 1px solid gray;flex-grow: 1;}#sk-container-id-1 div.sk-label:hover label.sk-toggleable__label {background-color: #d4ebff;}#sk-container-id-1 div.sk-serial::before {content: \"\";position: absolute;border-left: 1px solid gray;box-sizing: border-box;top: 0;bottom: 0;left: 50%;z-index: 0;}#sk-container-id-1 div.sk-serial {display: flex;flex-direction: column;align-items: center;background-color: white;padding-right: 0.2em;padding-left: 0.2em;position: relative;}#sk-container-id-1 div.sk-item {position: relative;z-index: 1;}#sk-container-id-1 div.sk-parallel {display: flex;align-items: stretch;justify-content: center;background-color: white;position: relative;}#sk-container-id-1 div.sk-item::before, #sk-container-id-1 div.sk-parallel-item::before {content: \"\";position: absolute;border-left: 1px solid gray;box-sizing: border-box;top: 0;bottom: 0;left: 50%;z-index: -1;}#sk-container-id-1 div.sk-parallel-item {display: flex;flex-direction: column;z-index: 1;position: relative;background-color: white;}#sk-container-id-1 div.sk-parallel-item:first-child::after {align-self: flex-end;width: 50%;}#sk-container-id-1 div.sk-parallel-item:last-child::after {align-self: flex-start;width: 50%;}#sk-container-id-1 div.sk-parallel-item:only-child::after {width: 0;}#sk-container-id-1 div.sk-dashed-wrapped {border: 1px dashed gray;margin: 0 0.4em 0.5em 0.4em;box-sizing: border-box;padding-bottom: 0.4em;background-color: white;}#sk-container-id-1 div.sk-label label {font-family: monospace;font-weight: bold;display: inline-block;line-height: 1.2em;}#sk-container-id-1 div.sk-label-container {text-align: center;}#sk-container-id-1 div.sk-container {/* jupyter's `normalize.less` sets `[hidden] { display: none; }` but bootstrap.min.css set `[hidden] { display: none !important; }` so we also need the `!important` here to be able to override the default hidden behavior on the sphinx rendered scikit-learn.org. See: https://github.com/scikit-learn/scikit-learn/issues/21755 */display: inline-block !important;position: relative;}#sk-container-id-1 div.sk-text-repr-fallback {display: none;}</style><div id=\"sk-container-id-1\" class=\"sk-top-container\"><div class=\"sk-text-repr-fallback\"><pre>Ridge(alpha=10)</pre><b>In a Jupyter environment, please rerun this cell to show the HTML representation or trust the notebook. <br />On GitHub, the HTML representation is unable to render, please try loading this page with nbviewer.org.</b></div><div class=\"sk-container\" hidden><div class=\"sk-item\"><div class=\"sk-estimator sk-toggleable\"><input class=\"sk-toggleable__control sk-hidden--visually\" id=\"sk-estimator-id-1\" type=\"checkbox\" checked><label for=\"sk-estimator-id-1\" class=\"sk-toggleable__label sk-toggleable__label-arrow\">Ridge</label><div class=\"sk-toggleable__content\"><pre>Ridge(alpha=10)</pre></div></div></div></div></div>"
      ],
      "text/plain": [
       "Ridge(alpha=10)"
      ]
     },
     "execution_count": 29,
     "metadata": {},
     "output_type": "execute_result"
    }
   ],
   "source": [
    "model = Ridge(alpha = 10)\n",
    "model.fit(X_train, y_train)"
   ]
  },
  {
   "cell_type": "code",
   "execution_count": 32,
   "id": "36b4faf1-22f9-427c-962e-9e2851160dcf",
   "metadata": {},
   "outputs": [],
   "source": [
    "import pickle\n",
    "\n",
    "pickle.dump(model, open('model.sav', 'wb'))"
   ]
  },
  {
   "cell_type": "code",
   "execution_count": 30,
   "id": "bbca6a29",
   "metadata": {
    "papermill": {
     "duration": 0.033776,
     "end_time": "2024-05-13T07:16:48.396917",
     "exception": false,
     "start_time": "2024-05-13T07:16:48.363141",
     "status": "completed"
    },
    "tags": []
   },
   "outputs": [],
   "source": [
    "y_pred = model.predict(X_test)"
   ]
  },
  {
   "cell_type": "markdown",
   "id": "5c781a80",
   "metadata": {
    "papermill": {
     "duration": 0.023659,
     "end_time": "2024-05-13T07:16:48.444727",
     "exception": false,
     "start_time": "2024-05-13T07:16:48.421068",
     "status": "completed"
    },
    "tags": []
   },
   "source": [
    "Here is the graph of the holdout set testing. Each point is in form $(y_{predicted}, y_{true})$."
   ]
  },
  {
   "cell_type": "code",
   "execution_count": 31,
   "id": "0ab1f922",
   "metadata": {
    "papermill": {
     "duration": 0.358378,
     "end_time": "2024-05-13T07:16:48.826688",
     "exception": false,
     "start_time": "2024-05-13T07:16:48.468310",
     "status": "completed"
    },
    "tags": []
   },
   "outputs": [
    {
     "data": {
      "text/plain": [
       "Text(0, 0.5, 'True Body Fat')"
      ]
     },
     "execution_count": 31,
     "metadata": {},
     "output_type": "execute_result"
    },
    {
     "data": {
      "image/png": "[encoded data removed]",
      "text/plain": [
       "<Figure size 640x480 with 1 Axes>"
      ]
     },
     "metadata": {},
     "output_type": "display_data"
    }
   ],
   "source": [
    "plt.scatter(y_pred, y_test)\n",
    "plt.plot([0, 38], [0, 38], color = 'green')\n",
    "plt.xlabel('Predicted Body Fat')\n",
    "plt.ylabel('True Body Fat')"
   ]
  },
  {
   "cell_type": "markdown",
   "id": "d50d6954",
   "metadata": {
    "papermill": {
     "duration": 0.025124,
     "end_time": "2024-05-13T07:16:48.877789",
     "exception": false,
     "start_time": "2024-05-13T07:16:48.852665",
     "status": "completed"
    },
    "tags": []
   },
   "source": [
    "# Testing the Model"
   ]
  },
  {
   "cell_type": "code",
   "execution_count": 34,
   "id": "a1446662",
   "metadata": {
    "execution": {
     "iopub.execute_input": "2024-05-13T07:16:48.932290Z",
     "iopub.status.busy": "2024-05-13T07:16:48.931865Z",
     "iopub.status.idle": "2024-05-13T07:16:48.944481Z",
     "shell.execute_reply": "2024-05-13T07:16:48.942992Z"
    },
    "papermill": {
     "duration": 0.044052,
     "end_time": "2024-05-13T07:16:48.947536",
     "exception": false,
     "start_time": "2024-05-13T07:16:48.903484",
     "status": "completed"
    },
    "tags": []
   },
   "outputs": [],
   "source": [
    "def get_data():\n",
    "    age = int(input('Age: '))\n",
    "    weight = float(input('Weight(in lbs): '))\n",
    "    height = float(input('Height(in in): '))\n",
    "    neck = float(input('Neck Circumference(in cm): '))\n",
    "    chest = float(input('Chest Circumference(in cm): '))\n",
    "    abdomen = float(input('Abdomen Circumference(in cm): '))\n",
    "    hip = float(input('Hip Circumference(in cm): '))\n",
    "    thigh = float(input('Thigh Circumference(in cm): '))\n",
    "    knee = float(input('Knee Circumference(in cm): '))\n",
    "    ankle = float(input('Ankle Circumference(in cm): '))\n",
    "    biceps = float(input('Biceps Circumference(in cm): '))\n",
    "    forearm = float(input('Forearm Circumference(in cm): '))\n",
    "    wrist = float(input('Wrist Circumference(in cm): '))\n",
    "    \n",
    "    bmi = weight * 703.0 / height**2\n",
    "    bf_bmi = bmi * 1.39 + age * 0.16 - 19.34\n",
    "    bai = hip / (height * 0.0254 * np.sqrt(height * 0.0254)) - 18\n",
    "    navy = 86.010 * np.log10(abdomen - neck) - 70.041 * np.log10(height) + 36.76\n",
    "    \n",
    "    x = [[age, weight, height, neck, chest, abdomen, hip, thigh, knee, ankle, biceps, forearm, wrist, bmi, bf_bmi, bai, navy]]\n",
    "    x = scaler.transform(x)\n",
    "    \n",
    "    return x"
   ]
  },
  {
   "cell_type": "markdown",
   "id": "31fcf5a6",
   "metadata": {
    "papermill": {
     "duration": 0.025035,
     "end_time": "2024-05-13T07:16:48.998698",
     "exception": false,
     "start_time": "2024-05-13T07:16:48.973663",
     "status": "completed"
    },
    "tags": []
   },
   "source": [
    "My measures"
   ]
  },
  {
   "cell_type": "code",
   "execution_count": 35,
   "id": "6b936543",
   "metadata": {
    "execution": {
     "iopub.execute_input": "2024-05-13T07:16:49.053677Z",
     "iopub.status.busy": "2024-05-13T07:16:49.053230Z",
     "iopub.status.idle": "2024-05-13T07:16:49.067374Z",
     "shell.execute_reply": "2024-05-13T07:16:49.066147Z"
    },
    "papermill": {
     "duration": 0.043684,
     "end_time": "2024-05-13T07:16:49.070095",
     "exception": false,
     "start_time": "2024-05-13T07:16:49.026411",
     "status": "completed"
    },
    "tags": []
   },
   "outputs": [
    {
     "data": {
      "text/plain": [
       "19.951953684467618"
      ]
     },
     "execution_count": 35,
     "metadata": {},
     "output_type": "execute_result"
    }
   ],
   "source": [
    "age = 21\n",
    "weight = 185\n",
    "height = 70\n",
    "neck = 38\n",
    "chest = 99\n",
    "abdomen = 91\n",
    "hip = 101\n",
    "thigh = 58\n",
    "knee = 38\n",
    "ankle = 21\n",
    "biceps = 31\n",
    "forearm = 28\n",
    "wrist = 16\n",
    "    \n",
    "bmi = weight * 703.0 / height**2\n",
    "bf_bmi = bmi * 1.39 + age * 0.16 - 19.34\n",
    "bai = hip / (height * 0.0254 * np.sqrt(height * 0.0254)) - 18\n",
    "navy = 86.010 * np.log10(abdomen - neck) - 70.041 * np.log10(height) + 36.76\n",
    "    \n",
    "x = [[age, weight, height, neck, chest, abdomen, hip, thigh, knee, ankle, biceps, forearm, wrist, bmi, bf_bmi, bai, navy]]\n",
    "x = scaler.transform(x)\n",
    "\n",
    "model.predict(x)[0]"
   ]
  },
  {
   "cell_type": "markdown",
   "id": "b431de6a",
   "metadata": {
    "papermill": {
     "duration": 0.024788,
     "end_time": "2024-05-13T07:16:49.120771",
     "exception": false,
     "start_time": "2024-05-13T07:16:49.095983",
     "status": "completed"
    },
    "tags": []
   },
   "source": [
    "Maybe I need to do some cardio after the workout..."
   ]
  }
 ],
 "metadata": {
  "kaggle": {
   "accelerator": "none",
   "dataSources": [
    {
     "datasetId": 1408058,
     "sourceId": 2332711,
     "sourceType": "datasetVersion"
    }
   ],
   "dockerImageVersionId": 30684,
   "isGpuEnabled": false,
   "isInternetEnabled": true,
   "language": "python",
   "sourceType": "notebook"
  },
  "kernelspec": {
   "display_name": "Python 3 (ipykernel)",
   "language": "python",
   "name": "python3"
  },
  "language_info": {
   "codemirror_mode": {
    "name": "ipython",
    "version": 3
   },
   "file_extension": ".py",
   "mimetype": "text/x-python",
   "name": "python",
   "nbconvert_exporter": "python",
   "pygments_lexer": "ipython3",
   "version": "3.10.12"
  },
  "papermill": {
   "default_parameters": {},
   "duration": 139.272708,
   "end_time": "2024-05-13T07:16:49.969499",
   "environment_variables": {},
   "exception": null,
   "input_path": "__notebook__.ipynb",
   "output_path": "__notebook__.ipynb",
   "parameters": {},
   "start_time": "2024-05-13T07:14:30.696791",
   "version": "2.5.0"
  }
 },
 "nbformat": 4,
 "nbformat_minor": 5
}
